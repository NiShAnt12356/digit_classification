{
  "nbformat": 4,
  "nbformat_minor": 0,
  "metadata": {
    "colab": {
      "provenance": []
    },
    "kernelspec": {
      "name": "python3",
      "display_name": "Python 3"
    },
    "language_info": {
      "name": "python"
    }
  },
  "cells": [
    {
      "cell_type": "code",
      "execution_count": null,
      "metadata": {
        "id": "TUxjqwnWmvyZ"
      },
      "outputs": [],
      "source": [
        "import tensorflow\n",
        "from tensorflow import keras\n",
        "from tensorflow.keras import Sequential\n",
        "from tensorflow.keras.layers import Dense , Flatten\n"
      ]
    },
    {
      "cell_type": "code",
      "source": [
        "(xtrain , ytrain) , (xtest , ytest) = keras.datasets.mnist.load_data()"
      ],
      "metadata": {
        "colab": {
          "base_uri": "https://localhost:8080/"
        },
        "id": "QZ5ZioC8nKK4",
        "outputId": "648b1bd0-b4da-4f88-8e03-4ae8d6e7838c"
      },
      "execution_count": null,
      "outputs": [
        {
          "output_type": "stream",
          "name": "stdout",
          "text": [
            "Downloading data from https://storage.googleapis.com/tensorflow/tf-keras-datasets/mnist.npz\n",
            "11490434/11490434 [==============================] - 1s 0us/step\n"
          ]
        }
      ]
    },
    {
      "cell_type": "code",
      "source": [],
      "metadata": {
        "id": "fgldwOSPnaKy"
      },
      "execution_count": null,
      "outputs": []
    },
    {
      "cell_type": "code",
      "source": [
        "import matplotlib.pyplot as plt\n",
        "plt.imshow(xtrain[2])"
      ],
      "metadata": {
        "colab": {
          "base_uri": "https://localhost:8080/",
          "height": 447
        },
        "id": "ZByMfcjqncML",
        "outputId": "f9c19c55-783f-4058-c7be-523c650a2224"
      },
      "execution_count": null,
      "outputs": [
        {
          "output_type": "execute_result",
          "data": {
            "text/plain": [
              "<matplotlib.image.AxesImage at 0x7dc6d3be7490>"
            ]
          },
          "metadata": {},
          "execution_count": 4
        },
        {
          "output_type": "display_data",
          "data": {
            "text/plain": [
              "<Figure size 640x480 with 1 Axes>"
            ],
            "image/png": "[encoded data removed]"
          },
          "metadata": {}
        }
      ]
    },
    {
      "cell_type": "code",
      "source": [
        "xtrain = xtrain/255\n",
        "xtest = xtest/255"
      ],
      "metadata": {
        "id": "k0KAl4M-oHhU"
      },
      "execution_count": null,
      "outputs": []
    },
    {
      "cell_type": "code",
      "source": [
        "model = Sequential()\n",
        "\n",
        "model.add(Flatten(input_shape = (28,28)))\n",
        "model.add(Dense(128 , activation = 'relu'))\n",
        "model.add(Dense(32 , activation = 'relu'))\n",
        "model.add(Dense(10 , activation = 'softmax'))"
      ],
      "metadata": {
        "id": "nOJzawYIoabG"
      },
      "execution_count": null,
      "outputs": []
    },
    {
      "cell_type": "code",
      "source": [
        "model.summary()"
      ],
      "metadata": {
        "colab": {
          "base_uri": "https://localhost:8080/"
        },
        "id": "ZDz8j7NSpQ7l",
        "outputId": "4301151d-4e60-4864-f951-e71c418ac23b"
      },
      "execution_count": null,
      "outputs": [
        {
          "output_type": "stream",
          "name": "stdout",
          "text": [
            "Model: \"sequential\"\n",
            "_________________________________________________________________\n",
            " Layer (type)                Output Shape              Param #   \n",
            "=================================================================\n",
            " flatten (Flatten)           (None, 784)               0         \n",
            "                                                                 \n",
            " dense (Dense)               (None, 128)               100480    \n",
            "                                                                 \n",
            " dense_1 (Dense)             (None, 32)                4128      \n",
            "                                                                 \n",
            " dense_2 (Dense)             (None, 10)                330       \n",
            "                                                                 \n",
            "=================================================================\n",
            "Total params: 104938 (409.91 KB)\n",
            "Trainable params: 104938 (409.91 KB)\n",
            "Non-trainable params: 0 (0.00 Byte)\n",
            "_________________________________________________________________\n"
          ]
        }
      ]
    },
    {
      "cell_type": "code",
      "source": [
        "model.compile(loss = 'sparse_categorical_crossentropy' , optimizer = 'Adam' , metrics = ['accuracy'])"
      ],
      "metadata": {
        "id": "NlwwuUd4ob4y"
      },
      "execution_count": null,
      "outputs": []
    },
    {
      "cell_type": "code",
      "source": [
        "history = model.fit(xtrain , ytrain , epochs = 10 , validation_split = 0.2)"
      ],
      "metadata": {
        "colab": {
          "base_uri": "https://localhost:8080/"
        },
        "id": "6xBrsULEpdQd",
        "outputId": "e3b2301a-d445-434f-f0b6-af9a327fc439"
      },
      "execution_count": null,
      "outputs": [
        {
          "output_type": "stream",
          "name": "stdout",
          "text": [
            "Epoch 1/10\n",
            "1500/1500 [==============================] - 8s 5ms/step - loss: 0.2788 - accuracy: 0.9189 - val_loss: 0.1444 - val_accuracy: 0.9588\n",
            "Epoch 2/10\n",
            "1500/1500 [==============================] - 6s 4ms/step - loss: 0.1203 - accuracy: 0.9639 - val_loss: 0.1165 - val_accuracy: 0.9649\n",
            "Epoch 3/10\n",
            "1500/1500 [==============================] - 6s 4ms/step - loss: 0.0833 - accuracy: 0.9743 - val_loss: 0.1024 - val_accuracy: 0.9696\n",
            "Epoch 4/10\n",
            "1500/1500 [==============================] - 6s 4ms/step - loss: 0.0636 - accuracy: 0.9810 - val_loss: 0.1035 - val_accuracy: 0.9709\n",
            "Epoch 5/10\n",
            "1500/1500 [==============================] - 6s 4ms/step - loss: 0.0492 - accuracy: 0.9845 - val_loss: 0.1038 - val_accuracy: 0.9709\n",
            "Epoch 6/10\n",
            "1500/1500 [==============================] - 7s 4ms/step - loss: 0.0394 - accuracy: 0.9871 - val_loss: 0.1066 - val_accuracy: 0.9713\n",
            "Epoch 7/10\n",
            "1500/1500 [==============================] - 6s 4ms/step - loss: 0.0323 - accuracy: 0.9891 - val_loss: 0.1011 - val_accuracy: 0.9727\n",
            "Epoch 8/10\n",
            "1500/1500 [==============================] - 7s 4ms/step - loss: 0.0249 - accuracy: 0.9919 - val_loss: 0.1051 - val_accuracy: 0.9744\n",
            "Epoch 9/10\n",
            "1500/1500 [==============================] - 6s 4ms/step - loss: 0.0237 - accuracy: 0.9918 - val_loss: 0.1129 - val_accuracy: 0.9737\n",
            "Epoch 10/10\n",
            "1500/1500 [==============================] - 7s 5ms/step - loss: 0.0187 - accuracy: 0.9941 - val_loss: 0.1112 - val_accuracy: 0.9762\n"
          ]
        }
      ]
    },
    {
      "cell_type": "code",
      "source": [
        "yprob = model.predict(xtest)"
      ],
      "metadata": {
        "colab": {
          "base_uri": "https://localhost:8080/"
        },
        "id": "FvoRfOsNpphA",
        "outputId": "ae975862-17f8-4b78-c031-c7da5412c7ee"
      },
      "execution_count": null,
      "outputs": [
        {
          "output_type": "stream",
          "name": "stdout",
          "text": [
            "313/313 [==============================] - 1s 2ms/step\n"
          ]
        }
      ]
    },
    {
      "cell_type": "code",
      "source": [
        "ypred = yprob.argmax(axis = 1)"
      ],
      "metadata": {
        "id": "GxnM3WaLqBxo"
      },
      "execution_count": null,
      "outputs": []
    },
    {
      "cell_type": "code",
      "source": [
        "from sklearn.metrics import accuracy_score\n"
      ],
      "metadata": {
        "id": "tuJXYvSpqFot"
      },
      "execution_count": null,
      "outputs": []
    },
    {
      "cell_type": "code",
      "source": [
        "accuracy_score(ytest , ypred)"
      ],
      "metadata": {
        "colab": {
          "base_uri": "https://localhost:8080/"
        },
        "id": "Wl7-eVDXtACq",
        "outputId": "08863c08-0300-411b-dd8e-67a1ac1fdff4"
      },
      "execution_count": null,
      "outputs": [
        {
          "output_type": "execute_result",
          "data": {
            "text/plain": [
              "0.9738"
            ]
          },
          "metadata": {},
          "execution_count": 13
        }
      ]
    },
    {
      "cell_type": "code",
      "source": [
        "history.history"
      ],
      "metadata": {
        "colab": {
          "base_uri": "https://localhost:8080/"
        },
        "id": "QW0052qWtFxE",
        "outputId": "e023afea-f657-4196-dbef-954192bf50cf"
      },
      "execution_count": null,
      "outputs": [
        {
          "output_type": "execute_result",
          "data": {
            "text/plain": [
              "{'loss': [0.27880367636680603,\n",
              "  0.12026023119688034,\n",
              "  0.08329246193170547,\n",
              "  0.06357557326555252,\n",
              "  0.04923258349299431,\n",
              "  0.039379991590976715,\n",
              "  0.03228563815355301,\n",
              "  0.02490881085395813,\n",
              "  0.023722954094409943,\n",
              "  0.018729468807578087],\n",
              " 'accuracy': [0.918874979019165,\n",
              "  0.9638749957084656,\n",
              "  0.9742916822433472,\n",
              "  0.9810208082199097,\n",
              "  0.984541654586792,\n",
              "  0.9871041774749756,\n",
              "  0.9890833497047424,\n",
              "  0.991854190826416,\n",
              "  0.9917916655540466,\n",
              "  0.9940624833106995],\n",
              " 'val_loss': [0.14443886280059814,\n",
              "  0.11648926883935928,\n",
              "  0.10237380117177963,\n",
              "  0.10351560264825821,\n",
              "  0.10377256572246552,\n",
              "  0.10660221427679062,\n",
              "  0.1011328250169754,\n",
              "  0.10509655624628067,\n",
              "  0.11286239326000214,\n",
              "  0.11117149144411087],\n",
              " 'val_accuracy': [0.9587500095367432,\n",
              "  0.9649166464805603,\n",
              "  0.9695833325386047,\n",
              "  0.9709166884422302,\n",
              "  0.9709166884422302,\n",
              "  0.9713333249092102,\n",
              "  0.9726666808128357,\n",
              "  0.9744166731834412,\n",
              "  0.9737499952316284,\n",
              "  0.9762499928474426]}"
            ]
          },
          "metadata": {},
          "execution_count": 14
        }
      ]
    },
    {
      "cell_type": "code",
      "source": [
        "plt.plot(history.history['loss'])\n",
        "plt.plot(history.history['val_loss'])"
      ],
      "metadata": {
        "colab": {
          "base_uri": "https://localhost:8080/",
          "height": 447
        },
        "id": "IahOq67DvywC",
        "outputId": "bdc3d7e8-6ff7-4610-de33-8cde787db777"
      },
      "execution_count": null,
      "outputs": [
        {
          "output_type": "execute_result",
          "data": {
            "text/plain": [
              "[<matplotlib.lines.Line2D at 0x7dc6a2acd0c0>]"
            ]
          },
          "metadata": {},
          "execution_count": 15
        },
        {
          "output_type": "display_data",
          "data": {
            "text/plain": [
              "<Figure size 640x480 with 1 Axes>"
            ],
            "image/png": "[encoded data removed]"
          },
          "metadata": {}
        }
      ]
    },
    {
      "cell_type": "code",
      "source": [
        "plt.plot(history.history['accuracy'])\n",
        "plt.plot(history.history['val_accuracy'])\n"
      ],
      "metadata": {
        "colab": {
          "base_uri": "https://localhost:8080/",
          "height": 447
        },
        "id": "cOOPnPy7NQFe",
        "outputId": "c5c116f8-4312-4e65-b3c2-fbd8df89dcc9"
      },
      "execution_count": null,
      "outputs": [
        {
          "output_type": "execute_result",
          "data": {
            "text/plain": [
              "[<matplotlib.lines.Line2D at 0x7dc6a4d81de0>]"
            ]
          },
          "metadata": {},
          "execution_count": 16
        },
        {
          "output_type": "display_data",
          "data": {
            "text/plain": [
              "<Figure size 640x480 with 1 Axes>"
            ],
            "image/png": "[encoded data removed]"
          },
          "metadata": {}
        }
      ]
    },
    {
      "cell_type": "code",
      "source": [],
      "metadata": {
        "id": "K74yTHRaN0ba"
      },
      "execution_count": null,
      "outputs": []
    }
  ]
}